{
 "cells": [
  {
   "cell_type": "code",
   "execution_count": 16,
   "id": "ddd680de-1390-4b83-94a4-e6c8a2e3abca",
   "metadata": {},
   "outputs": [],
   "source": [
    "library(tidyverse)\n",
    "library(repr)\n",
    "library(tidymodels)\n",
    "options(repr.matrix.max.rows = 7)"
   ]
  },
  {
   "cell_type": "code",
   "execution_count": null,
   "id": "ae109894-143c-43db-814c-3ee29d651694",
   "metadata": {},
   "outputs": [],
   "source": []
  }
 ],
 "metadata": {
  "kernelspec": {
   "display_name": "R",
   "language": "R",
   "name": "ir"
  },
  "language_info": {
   "codemirror_mode": "r",
   "file_extension": ".r",
   "mimetype": "text/x-r-source",
   "name": "R",
   "pygments_lexer": "r",
   "version": "4.3.3"
  }
 },
 "nbformat": 4,
 "nbformat_minor": 5
}
