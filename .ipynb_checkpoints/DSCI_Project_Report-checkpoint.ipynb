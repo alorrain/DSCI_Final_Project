{
 "cells": [
  {
   "cell_type": "code",
   "execution_count": 13,
   "id": "7661b984-011e-4222-bcae-df6984e22a4f",
   "metadata": {},
   "outputs": [
    {
     "name": "stderr",
     "output_type": "stream",
     "text": [
      "── \u001b[1mAttaching packages\u001b[22m ────────────────────────────────────── tidymodels 1.1.1 ──\n",
      "\n",
      "\u001b[32m✔\u001b[39m \u001b[34mbroom       \u001b[39m 1.0.6     \u001b[32m✔\u001b[39m \u001b[34mrsample     \u001b[39m 1.2.1\n",
      "\u001b[32m✔\u001b[39m \u001b[34mdials       \u001b[39m 1.3.0     \u001b[32m✔\u001b[39m \u001b[34mtune        \u001b[39m 1.1.2\n",
      "\u001b[32m✔\u001b[39m \u001b[34minfer       \u001b[39m 1.0.7     \u001b[32m✔\u001b[39m \u001b[34mworkflows   \u001b[39m 1.1.4\n",
      "\u001b[32m✔\u001b[39m \u001b[34mmodeldata   \u001b[39m 1.4.0     \u001b[32m✔\u001b[39m \u001b[34mworkflowsets\u001b[39m 1.0.1\n",
      "\u001b[32m✔\u001b[39m \u001b[34mparsnip     \u001b[39m 1.2.1     \u001b[32m✔\u001b[39m \u001b[34myardstick   \u001b[39m 1.3.1\n",
      "\u001b[32m✔\u001b[39m \u001b[34mrecipes     \u001b[39m 1.1.0     \n",
      "\n",
      "── \u001b[1mConflicts\u001b[22m ───────────────────────────────────────── tidymodels_conflicts() ──\n",
      "\u001b[31m✖\u001b[39m \u001b[34mscales\u001b[39m::\u001b[32mdiscard()\u001b[39m masks \u001b[34mpurrr\u001b[39m::discard()\n",
      "\u001b[31m✖\u001b[39m \u001b[34mdplyr\u001b[39m::\u001b[32mfilter()\u001b[39m   masks \u001b[34mstats\u001b[39m::filter()\n",
      "\u001b[31m✖\u001b[39m \u001b[34mrecipes\u001b[39m::\u001b[32mfixed()\u001b[39m  masks \u001b[34mstringr\u001b[39m::fixed()\n",
      "\u001b[31m✖\u001b[39m \u001b[34mdplyr\u001b[39m::\u001b[32mlag()\u001b[39m      masks \u001b[34mstats\u001b[39m::lag()\n",
      "\u001b[31m✖\u001b[39m \u001b[34myardstick\u001b[39m::\u001b[32mspec()\u001b[39m masks \u001b[34mreadr\u001b[39m::spec()\n",
      "\u001b[31m✖\u001b[39m \u001b[34mrecipes\u001b[39m::\u001b[32mstep()\u001b[39m   masks \u001b[34mstats\u001b[39m::step()\n",
      "\u001b[34m•\u001b[39m Learn how to get started at \u001b[32mhttps://www.tidymodels.org/start/\u001b[39m\n",
      "\n"
     ]
    }
   ],
   "source": [
    "library(tidyverse)\n",
    "library(repr)\n",
    "library(tidymodels)\n",
    "options(repr.matrix.max.rows = 6)"
   ]
  },
  {
   "cell_type": "code",
   "execution_count": 12,
   "id": "ba47df2b-e72c-44e6-910c-fa2a2d1504eb",
   "metadata": {},
   "outputs": [
    {
     "name": "stderr",
     "output_type": "stream",
     "text": [
      "\u001b[1mRows: \u001b[22m\u001b[34m1487\u001b[39m \u001b[1mColumns: \u001b[22m\u001b[34m1\u001b[39m\n",
      "\u001b[36m──\u001b[39m \u001b[1mColumn specification\u001b[22m \u001b[36m────────────────────────────────────────────────────────\u001b[39m\n",
      "\u001b[1mDelimiter:\u001b[22m \"\\t\"\n",
      "\u001b[31mchr\u001b[39m (1): <!DOCTYPE html>\n",
      "\n",
      "\u001b[36mℹ\u001b[39m Use `spec()` to retrieve the full column specification for this data.\n",
      "\u001b[36mℹ\u001b[39m Specify the column types or set `show_col_types = FALSE` to quiet this message.\n"
     ]
    },
    {
     "data": {
      "text/html": [
       "<table class=\"dataframe\">\n",
       "<caption>A spec_tbl_df: 1487 × 1</caption>\n",
       "<thead>\n",
       "\t<tr><th scope=col>&lt;!DOCTYPE html&gt;</th></tr>\n",
       "\t<tr><th scope=col>&lt;chr&gt;</th></tr>\n",
       "</thead>\n",
       "<tbody>\n",
       "\t<tr><td><span style=white-space:pre-wrap>&lt;html                                                                 </span></td></tr>\n",
       "\t<tr><td>lang=\"en\"                                                             </td></tr>\n",
       "\t<tr><td>data-color-mode=\"auto\" data-light-theme=\"light\" data-dark-theme=\"dark\"</td></tr>\n",
       "\t<tr><td>⋮</td></tr>\n",
       "\t<tr><td>&lt;div id=\"js-global-screen-reader-notice-assertive\" class=\"sr-only mt-n1\" aria-live=\"assertive\" aria-atomic=\"true\"&gt;&lt;/div&gt;</td></tr>\n",
       "\t<tr><td><span style=white-space:pre-wrap>&lt;/body&gt;                                                                                                                 </span></td></tr>\n",
       "\t<tr><td><span style=white-space:pre-wrap>&lt;/html&gt;                                                                                                                 </span></td></tr>\n",
       "</tbody>\n",
       "</table>\n"
      ],
      "text/latex": [
       "A spec\\_tbl\\_df: 1487 × 1\n",
       "\\begin{tabular}{l}\n",
       " <!DOCTYPE html>\\\\\n",
       " <chr>\\\\\n",
       "\\hline\n",
       "\t <html                                                                 \\\\\n",
       "\t lang=\"en\"                                                             \\\\\n",
       "\t data-color-mode=\"auto\" data-light-theme=\"light\" data-dark-theme=\"dark\"\\\\\n",
       "\t ⋮\\\\\n",
       "\t <div id=\"js-global-screen-reader-notice-assertive\" class=\"sr-only mt-n1\" aria-live=\"assertive\" aria-atomic=\"true\"></div>\\\\\n",
       "\t </body>                                                                                                                 \\\\\n",
       "\t </html>                                                                                                                 \\\\\n",
       "\\end{tabular}\n"
      ],
      "text/markdown": [
       "\n",
       "A spec_tbl_df: 1487 × 1\n",
       "\n",
       "| &lt;!DOCTYPE html&gt; &lt;chr&gt; |\n",
       "|---|\n",
       "| &lt;html                                                                  |\n",
       "| lang=\"en\"                                                              |\n",
       "| data-color-mode=\"auto\" data-light-theme=\"light\" data-dark-theme=\"dark\" |\n",
       "| ⋮ |\n",
       "| &lt;div id=\"js-global-screen-reader-notice-assertive\" class=\"sr-only mt-n1\" aria-live=\"assertive\" aria-atomic=\"true\"&gt;&lt;/div&gt; |\n",
       "| &lt;/body&gt;                                                                                                                  |\n",
       "| &lt;/html&gt;                                                                                                                  |\n",
       "\n"
      ],
      "text/plain": [
       "     <!DOCTYPE html>                                                                                                         \n",
       "1    <html                                                                                                                   \n",
       "2    lang=\"en\"                                                                                                               \n",
       "3    data-color-mode=\"auto\" data-light-theme=\"light\" data-dark-theme=\"dark\"                                                  \n",
       "⋮    ⋮                                                                                                                       \n",
       "1485 <div id=\"js-global-screen-reader-notice-assertive\" class=\"sr-only mt-n1\" aria-live=\"assertive\" aria-atomic=\"true\"></div>\n",
       "1486 </body>                                                                                                                 \n",
       "1487 </html>                                                                                                                 "
      ]
     },
     "metadata": {},
     "output_type": "display_data"
    }
   ],
   "source": [
    "players <- read_tsv(\"https://github.com/alorrain/DSCI_Final_Project/blob/7e5ce6abf52158a3cad31ae83a5e5b4d20871c29/players.csv\") \n",
    "players"
   ]
  },
  {
   "cell_type": "code",
   "execution_count": null,
   "id": "ddd680de-1390-4b83-94a4-e6c8a2e3abca",
   "metadata": {},
   "outputs": [],
   "source": []
  }
 ],
 "metadata": {
  "kernelspec": {
   "display_name": "R",
   "language": "R",
   "name": "ir"
  },
  "language_info": {
   "codemirror_mode": "r",
   "file_extension": ".r",
   "mimetype": "text/x-r-source",
   "name": "R",
   "pygments_lexer": "r",
   "version": "4.3.3"
  }
 },
 "nbformat": 4,
 "nbformat_minor": 5
}
