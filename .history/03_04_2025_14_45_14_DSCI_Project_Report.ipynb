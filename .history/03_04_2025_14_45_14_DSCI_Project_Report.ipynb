{
 "cells": [
  {
   "cell_type": "code",
   "execution_count": null,
   "id": "7661b984-011e-4222-bcae-df6984e22a4f",
   "metadata": {},
   "outputs": [],
   "source": [
    "library(tidyverse)\n",
    "options(repr.matrix.max.rows = 6)"
   ]
  },
  {
   "cell_type": "code",
   "execution_count": null,
   "id": "ba47df2b-e72c-44e6-910c-fa2a2d1504eb",
   "metadata": {},
   "outputs": [],
   "source": [
    "players <- read_csv(\"https://github.com/alorrain/DSCI_Final_Project/blob/7e5ce6abf52158a3cad31ae83a5e5b4d20871c29/players.csv\")"
   ]
  },
  {
   "cell_type": "code",
   "execution_count": null,
   "id": "ddd680de-1390-4b83-94a4-e6c8a2e3abca",
   "metadata": {},
   "outputs": [],
   "source": []
  }
 ],
 "metadata": {
  "kernelspec": {
   "display_name": "R",
   "language": "R",
   "name": "ir"
  },
  "language_info": {
   "codemirror_mode": "r",
   "file_extension": ".r",
   "mimetype": "text/x-r-source",
   "name": "R",
   "pygments_lexer": "r",
   "version": "4.3.3"
  }
 },
 "nbformat": 4,
 "nbformat_minor": 5
}
